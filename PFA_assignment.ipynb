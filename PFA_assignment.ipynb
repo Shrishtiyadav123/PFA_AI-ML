{
 "cells": [
  {
   "cell_type": "code",
   "execution_count": 1,
   "id": "37563675",
   "metadata": {},
   "outputs": [],
   "source": [
    "import cv2\n",
    "import numpy as np\n",
    "\n",
    "s_video = cv2.VideoCapture('s_video.mp4')\n",
    "ad_image = cv2.imread('s_image.jpg')\n",
    "\n",
    "if ad_image is None:\n",
    "    print(\"Error: Could not load advertisement image.\")\n",
    "    exit()\n",
    "\n",
    "if ad_image.shape[0] == 0 or ad_image.shape[1] == 0:\n",
    "    print(\"Error: Invalid dimensions for advertisement image.\")\n",
    "    exit()\n",
    "\n",
    "frame_width = int(s_video.get(cv2.CAP_PROP_FRAME_WIDTH))\n",
    "frame_height = int(s_video.get(cv2.CAP_PROP_FRAME_HEIGHT))\n",
    "\n",
    "if frame_width == 0 or frame_height == 0:\n",
    "    print(\"Error: Invalid dimensions for input video.\")\n",
    "    exit()\n",
    "\n",
    "output13_video = cv2.VideoWriter('output13_video.mp4', cv2.VideoWriter_fourcc(*'MP4V'), 30, (frame_width, frame_height))\n",
    "\n",
    "def handle_occlusions(video_frame, ad_image):\n",
    "  \n",
    "    ad_image_resized = cv2.resize(ad_image, (int(frame_width/4), int(frame_height/4))) \n",
    "    \n",
    "    ad_x_offset = frame_width - ad_image_resized.shape[1] - 50\n",
    "    ad_y_offset = 50\n",
    "    \n",
    "    video_frame[ad_y_offset:ad_y_offset+ad_image_resized.shape[0], ad_x_offset:ad_x_offset+ad_image_resized.shape[1]] = ad_image_resized\n",
    "    \n",
    "    return video_frame\n",
    "\n",
    "while True:\n",
    "    ret, frame = s_video.read()\n",
    "    if not ret:\n",
    "        break\n",
    "    \n",
    "    if frame is None:\n",
    "        print(\"Warning: Empty frame detected.\")\n",
    "        continue\n",
    "    \n",
    "    modified_frame = handle_occlusions(frame.copy(), ad_image)\n",
    "    \n",
    "    output13_video.write(modified_frame)\n",
    "s_video.release()\n",
    "output13_video.release()\n"
   ]
  },
  {
   "cell_type": "code",
   "execution_count": null,
   "id": "cc811a50",
   "metadata": {},
   "outputs": [],
   "source": []
  }
 ],
 "metadata": {
  "kernelspec": {
   "display_name": "Python 3 (ipykernel)",
   "language": "python",
   "name": "python3"
  },
  "language_info": {
   "codemirror_mode": {
    "name": "ipython",
    "version": 3
   },
   "file_extension": ".py",
   "mimetype": "text/x-python",
   "name": "python",
   "nbconvert_exporter": "python",
   "pygments_lexer": "ipython3",
   "version": "3.11.5"
  }
 },
 "nbformat": 4,
 "nbformat_minor": 5
}
